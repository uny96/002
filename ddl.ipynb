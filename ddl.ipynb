{
 "cells": [
  {
   "cell_type": "code",
   "execution_count": 13,
   "id": "aeed2210-76e6-4a2f-8d6f-6625d6f841db",
   "metadata": {},
   "outputs": [
    {
     "data": {
      "text/html": [
       "<div>\n",
       "<style scoped>\n",
       "    .dataframe tbody tr th:only-of-type {\n",
       "        vertical-align: middle;\n",
       "    }\n",
       "\n",
       "    .dataframe tbody tr th {\n",
       "        vertical-align: top;\n",
       "    }\n",
       "\n",
       "    .dataframe thead th {\n",
       "        text-align: right;\n",
       "    }\n",
       "</style>\n",
       "<table border=\"1\" class=\"dataframe\">\n",
       "  <thead>\n",
       "    <tr style=\"text-align: right;\">\n",
       "      <th></th>\n",
       "      <th>station_origin</th>\n",
       "      <th>station_destination</th>\n",
       "      <th>flows</th>\n",
       "      <th>population</th>\n",
       "      <th>jobs</th>\n",
       "      <th>distance</th>\n",
       "    </tr>\n",
       "  </thead>\n",
       "  <tbody>\n",
       "    <tr>\n",
       "      <th>0</th>\n",
       "      <td>Abbey Road</td>\n",
       "      <td>Bank and Monument</td>\n",
       "      <td>0</td>\n",
       "      <td>599</td>\n",
       "      <td>78549</td>\n",
       "      <td>8131.525097</td>\n",
       "    </tr>\n",
       "    <tr>\n",
       "      <th>1</th>\n",
       "      <td>Abbey Road</td>\n",
       "      <td>Beckton</td>\n",
       "      <td>1</td>\n",
       "      <td>599</td>\n",
       "      <td>442</td>\n",
       "      <td>8510.121774</td>\n",
       "    </tr>\n",
       "    <tr>\n",
       "      <th>2</th>\n",
       "      <td>Abbey Road</td>\n",
       "      <td>Blackwall</td>\n",
       "      <td>3</td>\n",
       "      <td>599</td>\n",
       "      <td>665</td>\n",
       "      <td>3775.448872</td>\n",
       "    </tr>\n",
       "    <tr>\n",
       "      <th>3</th>\n",
       "      <td>Abbey Road</td>\n",
       "      <td>Canary Wharf</td>\n",
       "      <td>1</td>\n",
       "      <td>599</td>\n",
       "      <td>58772</td>\n",
       "      <td>5086.514220</td>\n",
       "    </tr>\n",
       "    <tr>\n",
       "      <th>4</th>\n",
       "      <td>Abbey Road</td>\n",
       "      <td>Canning Town</td>\n",
       "      <td>37</td>\n",
       "      <td>599</td>\n",
       "      <td>15428</td>\n",
       "      <td>2228.923167</td>\n",
       "    </tr>\n",
       "  </tbody>\n",
       "</table>\n",
       "</div>"
      ],
      "text/plain": [
       "  station_origin station_destination  flows  population   jobs     distance\n",
       "0     Abbey Road   Bank and Monument      0         599  78549  8131.525097\n",
       "1     Abbey Road             Beckton      1         599    442  8510.121774\n",
       "2     Abbey Road           Blackwall      3         599    665  3775.448872\n",
       "3     Abbey Road        Canary Wharf      1         599  58772  5086.514220\n",
       "4     Abbey Road        Canning Town     37         599  15428  2228.923167"
      ]
     },
     "execution_count": 13,
     "metadata": {},
     "output_type": "execute_result"
    }
   ],
   "source": [
    "import pandas as pd\n",
    "\n",
    "# Read in the edgelist file from csv\n",
    "file_network = pd.read_csv(\"london_flows.csv\")\n",
    "\n",
    "# Print data (first five rows)\n",
    "file_network.head()"
   ]
  },
  {
   "cell_type": "code",
   "execution_count": 4,
   "id": "4f9f3dce-6224-46eb-8ea6-dea5a9bec6d3",
   "metadata": {},
   "outputs": [
    {
     "name": "stdout",
     "output_type": "stream",
     "text": [
      "Estimated value of b: 0.9996813991480555\n"
     ]
    }
   ],
   "source": [
    "import numpy as np\n",
    "from scipy.optimize import curve_fit\n",
    "\n",
    "# 定义模型函数\n",
    "def model_function(cij, K, Oi, Dj, b):\n",
    "    return K * Oi * Dj * np.exp(-b * cij)\n",
    "\n",
    "# 提取出 origin, destination, population, jobs, flow, distance 数据\n",
    "origin = file_network['station_origin']\n",
    "destination = file_network['station_destination']\n",
    "population = file_network['population']\n",
    "jobs = file_network['jobs']\n",
    "flow = file_network['flows']\n",
    "distance = file_network['distance']\n",
    "\n",
    "# 定义初始猜测值\n",
    "initial_guess = [1.0, 1.0, 1.0, 1.0]  # 初始猜测值，可以根据实际情况调整\n",
    "\n",
    "# 进行最小二乘拟合\n",
    "parameters, covariance = curve_fit(model_function, distance, flow, p0=initial_guess)\n",
    "\n",
    "# 提取出成本函数参数 b\n",
    "b = parameters[-1]\n",
    "\n",
    "print(\"Estimated value of b:\", b)\n",
    "\n"
   ]
  },
  {
   "cell_type": "code",
   "execution_count": null,
   "id": "72a06354-03d2-42d6-a664-5e7c8a8ed273",
   "metadata": {},
   "outputs": [],
   "source": []
  },
  {
   "cell_type": "code",
   "execution_count": 15,
   "id": "42bd2482-5ab3-4df2-826f-b4777a91e471",
   "metadata": {},
   "outputs": [
    {
     "name": "stderr",
     "output_type": "stream",
     "text": [
      "/tmp/ipykernel_120/3944620521.py:12: SettingWithCopyWarning: \n",
      "A value is trying to be set on a copy of a slice from a DataFrame\n",
      "\n",
      "See the caveats in the documentation: https://pandas.pydata.org/pandas-docs/stable/user_guide/indexing.html#returning-a-view-versus-a-copy\n",
      "  file_network['jobs'][canary_wharf_index] *= 0.5  # 减少50%\n"
     ]
    },
    {
     "name": "stdout",
     "output_type": "stream",
     "text": [
      "通勤者数量未能保持不变\n",
      "新的通勤流量已保存到 new_commute_data.csv\n"
     ]
    }
   ],
   "source": [
    "import numpy as np\n",
    "import pandas as pd\n",
    "\n",
    "# 假设原始数据存储在一个名为 file_network 的数据集中，包含 origin, destination, population, jobs, flows 列\n",
    "# 假设 flows 列包含通勤者流量数据，jobs 列包含工作数量数据\n",
    "\n",
    "# 计算原始通勤者数量\n",
    "original_commute = np.sum(file_network['flows'])\n",
    "\n",
    "# 更新 Canary Wharf 的工作数量\n",
    "canary_wharf_index = np.where(file_network['station_origin'] == 'Canary Wharf')[0][0]\n",
    "file_network['jobs'][canary_wharf_index] *= 0.5  # 减少50%\n",
    "\n",
    "# 计算重新分配的通勤者数量\n",
    "new_jobs = file_network['jobs']\n",
    "new_flow = np.zeros_like(file_network['flows'])\n",
    "\n",
    "# 重新分配通勤流量\n",
    "for i, row in enumerate(file_network):\n",
    "    if i == canary_wharf_index:  # 跳过 Canary Wharf 行\n",
    "        continue\n",
    "    \n",
    "    # 计算从第 i 行到 Canary Wharf 的通勤者数量\n",
    "    commute_to_canary_wharf = file_network['flows'][i] * file_network['jobs'][canary_wharf_index] / np.sum(file_network['jobs'])\n",
    "    \n",
    "    # 计算从 Canary Wharf 到第 i 行的通勤者数量\n",
    "    commute_from_canary_wharf = file_network['flows'][i] * file_network['jobs'][i] / np.sum(file_network['jobs'])\n",
    "    \n",
    "    # 计算新的通勤者数量\n",
    "    new_flow[i] = file_network['flows'][i] * (1 - 0.5) + commute_to_canary_wharf\n",
    "    new_flow[canary_wharf_index] += commute_from_canary_wharf  # 更新金丝雀码头的通勤流量\n",
    "\n",
    "# 验证总通勤者数量是否与原始数量相同\n",
    "if np.isclose(np.sum(new_flow), original_commute):\n",
    "    print(\"通勤者数量保持不变\")\n",
    "else:\n",
    "    print(\"通勤者数量未能保持不变\")\n",
    "\n",
    "# 将新的通勤流量保存到表格\n",
    "new_data = pd.DataFrame({'origin': file_network['station_origin'],\n",
    "                         'destination': file_network['station_destination'],\n",
    "                         'population': file_network['population'],\n",
    "                         'jobs': new_jobs,\n",
    "                         'flows': new_flow})\n",
    "\n",
    "# 保存到 CSV 文件\n",
    "new_data.to_csv('new_commute_data.csv', index=False)\n",
    "\n",
    "print(\"新的通勤流量已保存到 new_commute_data.csv\")\n"
   ]
  },
  {
   "cell_type": "code",
   "execution_count": 23,
   "id": "7c08458b-8ad1-4809-84ac-7ebffc4c5566",
   "metadata": {},
   "outputs": [
    {
     "name": "stdout",
     "output_type": "stream",
     "text": [
      "                      nodes  weighted_eigenvector_centrality\n",
      "0                  Waterloo                         0.385366\n",
      "1                 Stratford                         0.332440\n",
      "2                  Victoria                         0.218418\n",
      "3             London Bridge                         0.144524\n",
      "4          Liverpool Street                         0.144128\n",
      "5                Paddington                         0.124581\n",
      "6  King's Cross St. Pancras                         0.124316\n",
      "7             Seven Sisters                         0.110473\n",
      "8      Highbury & Islington                         0.106879\n",
      "9                  Vauxhall                         0.103369\n"
     ]
    }
   ],
   "source": [
    "import networkx as nx\n",
    "import pandas as pd\n",
    "\n",
    "# 创建一个带有权重的图\n",
    "g_station_weighted = nx.Graph()\n",
    "\n",
    "# 遍历数据，并添加带有权重的边\n",
    "for _, row in file_network.iterrows():\n",
    "    station_origin = row['station_origin']\n",
    "    station_destination = row['station_destination']\n",
    "    population = row['population']\n",
    "    g_station_weighted.add_edge(station_origin, station_destination, weight=population)\n",
    "\n",
    "# 计算加权后的特征向量中心性\n",
    "weighted_eigenvector_centrality = nx.eigenvector_centrality(g_station_weighted, weight='weight')\n",
    "\n",
    "# 将结果排序并存储在 DataFrame 中\n",
    "sorted_nodes = sorted(weighted_eigenvector_centrality.items(), key=lambda x: x[1], reverse=True)\n",
    "df = pd.DataFrame(sorted_nodes, columns=['nodes', 'weighted_eigenvector_centrality'])\n",
    "\n",
    "# 打印排名前十的节点及其加权后的特征向量中心性\n",
    "top_10 = df.head(10)\n",
    "print(top_10)\n"
   ]
  },
  {
   "cell_type": "code",
   "execution_count": 28,
   "id": "9fc56d36-ac6d-489c-ac2e-5f6f007accc6",
   "metadata": {},
   "outputs": [
    {
     "name": "stdout",
     "output_type": "stream",
     "text": [
      "               nodes  weighted_closeness_centrality\n",
      "0             Temple                       0.001609\n",
      "1   Hyde Park Corner                       0.001479\n",
      "2         Kensington                       0.001434\n",
      "3      Regent's Park                       0.001398\n",
      "4            Barking                       0.001337\n",
      "5       Canning Town                       0.001336\n",
      "6  Bank and Monument                       0.001336\n",
      "7       Canary Wharf                       0.001335\n",
      "8      Goodge Street                       0.001322\n",
      "9      Bethnal Green                       0.001302\n"
     ]
    }
   ],
   "source": [
    "import networkx as nx\n",
    "import pandas as pd\n",
    "\n",
    "# 创建一个带有权重的图\n",
    "g_station_weighted = nx.Graph()\n",
    "\n",
    "# 遍历数据，并添加带有权重的边\n",
    "for _, row in file_network.iterrows():\n",
    "    station_origin = row['station_origin']\n",
    "    station_destination = row['station_destination']\n",
    "    population = row['population']\n",
    "    g_station_weighted.add_edge(station_origin, station_destination, weight=population)\n",
    "\n",
    "# 计算加权后的特征向量中心性\n",
    "weighted_closeness_centrality = nx.closeness_centrality(g_station_weighted, distance='weight')\n",
    "\n",
    "# 将结果排序并存储在 DataFrame 中\n",
    "sorted_nodes = sorted(weighted_closeness_centrality.items(), key=lambda x: x[1], reverse=True)\n",
    "df = pd.DataFrame(sorted_nodes, columns=['nodes', 'weighted_closeness_centrality'])\n",
    "\n",
    "# 打印排名前十的节点及其加权后的特征向量中心性\n",
    "top_10 = df.head(10)\n",
    "print(top_10)\n"
   ]
  },
  {
   "cell_type": "code",
   "execution_count": 30,
   "id": "07cda91c-6401-4067-aeb1-8a6d6ceebe9a",
   "metadata": {},
   "outputs": [
    {
     "name": "stdout",
     "output_type": "stream",
     "text": [
      "               nodes  weighted_betweenness_centrality\n",
      "0             Temple                         0.415507\n",
      "1   Hyde Park Corner                         0.229258\n",
      "2         Kensington                         0.197597\n",
      "3    West India Quay                         0.163404\n",
      "4   Liverpool Street                         0.060542\n",
      "5          Shenfield                         0.053813\n",
      "6  Bank and Monument                         0.048245\n",
      "7          Stratford                         0.044561\n",
      "8       Canning Town                         0.043849\n",
      "9     Upper Holloway                         0.042272\n"
     ]
    }
   ],
   "source": [
    "import networkx as nx\n",
    "import pandas as pd\n",
    "\n",
    "# 创建一个带有权重的图\n",
    "g_station_weighted = nx.Graph()\n",
    "\n",
    "# 遍历数据，并添加带有权重的边\n",
    "for _, row in file_network.iterrows():\n",
    "    station_origin = row['station_origin']\n",
    "    station_destination = row['station_destination']\n",
    "    population = row['population']\n",
    "    g_station_weighted.add_edge(station_origin, station_destination, weight=population)\n",
    "\n",
    "# 计算边介数中心性\n",
    "weighted_edge_betweenness_centrality = nx.edge_betweenness_centrality(g_station_weighted, weight='weight')\n",
    "\n",
    "# 根据边介数中心性计算节点介数中心性\n",
    "weighted_betweenness_centrality = nx.betweenness_centrality(g_station_weighted, weight='weight')\n",
    "\n",
    "# 将结果排序并存储在 DataFrame 中\n",
    "sorted_nodes = sorted(weighted_betweenness_centrality.items(), key=lambda x: x[1], reverse=True)\n",
    "df = pd.DataFrame(sorted_nodes, columns=['nodes', 'weighted_betweenness_centrality'])\n",
    "\n",
    "# 打印排名前十的节点及其加权后的介数中心性\n",
    "top_10 = df.head(10)\n",
    "print(top_10)\n"
   ]
  },
  {
   "cell_type": "code",
   "execution_count": 2,
   "id": "192becc3-ddb9-4116-9950-ce87b6806c6c",
   "metadata": {},
   "outputs": [
    {
     "data": {
      "image/png": "[encoded data removed]",
      "text/plain": [
       "<Figure size 640x480 with 1 Axes>"
      ]
     },
     "metadata": {},
     "output_type": "display_data"
    }
   ],
   "source": [
    "import networkx as nx\n",
    "import matplotlib.pyplot as plt\n",
    "\n",
    "# Create graph object\n",
    "g_station = nx.from_pandas_edgelist(file_network, 'station_origin', 'station_destination','population')\n",
    "\n",
    "# Plot graph\n",
    "nx.draw(g_station,\n",
    "        with_labels = True,\n",
    "        node_color='gold',\n",
    "        font_size=9,\n",
    "        font_color='black',\n",
    "        edge_color='gray',\n",
    "        width=0.4)"
   ]
  },
  {
   "cell_type": "code",
   "execution_count": 3,
   "id": "52f4a0ef-81dc-4635-868f-136bdb16b3aa",
   "metadata": {},
   "outputs": [
    {
     "name": "stdout",
     "output_type": "stream",
     "text": [
      "                  nodes  eigenvector_centrality\n",
      "0             Stratford                0.073653\n",
      "1          Canada Water                0.073103\n",
      "2      Liverpool Street                0.073062\n",
      "3          Canary Wharf                0.072862\n",
      "4           Whitechapel                0.072779\n",
      "5     Bank and Monument                0.072534\n",
      "6         London Bridge                0.072491\n",
      "7              Victoria                0.072491\n",
      "8  Highbury & Islington                0.072480\n",
      "9          Canning Town                0.072396\n"
     ]
    }
   ],
   "source": [
    "import networkx as nx\n",
    "import pandas as pd\n",
    "\n",
    "\n",
    "eigenvector_centrality = nx.eigenvector_centrality(g_station)\n",
    "\n",
    "# 按特征向量中心性对节点进行排序\n",
    "sorted_nodes = sorted(eigenvector_centrality.items(), key=lambda x: x[1], reverse=True)\n",
    "\n",
    "# 创建一个 DataFrame 来显示结果\n",
    "df = pd.DataFrame(sorted_nodes, columns=['nodes', 'eigenvector_centrality'])\n",
    "\n",
    "# 显示前 10 名节点\n",
    "top_10 = df.head(10)\n",
    "print(top_10)\n"
   ]
  },
  {
   "cell_type": "code",
   "execution_count": 4,
   "id": "e2ac8714-2f9a-459b-b749-9e56f5abe78a",
   "metadata": {},
   "outputs": [
    {
     "name": "stdout",
     "output_type": "stream",
     "text": [
      "                  nodes  closeness_centrality\n",
      "0             Stratford              0.927739\n",
      "1  Highbury & Islington              0.836134\n",
      "2           Whitechapel              0.820619\n",
      "3         West Brompton              0.817248\n",
      "4          Canada Water              0.813906\n",
      "5     Bank and Monument              0.810591\n",
      "6          Canary Wharf              0.810591\n",
      "7              Richmond              0.810591\n",
      "8          Canning Town              0.808943\n",
      "9      Liverpool Street              0.808943\n"
     ]
    }
   ],
   "source": [
    "import networkx as nx\n",
    "import pandas as pd\n",
    "\n",
    "# 假设您已经有一个名为 'G' 的 NetworkX 图\n",
    "# 请将 'G' 替换为您的图的名称\n",
    "\n",
    "# 计算特征向量中心性\n",
    "closeness_centrality = nx.closeness_centrality(g_station)\n",
    "\n",
    "# 按特征向量中心性对节点进行排序\n",
    "sorted_nodes = sorted(closeness_centrality.items(), key=lambda x: x[1], reverse=True)\n",
    "\n",
    "# 创建一个 DataFrame 来显示结果\n",
    "df = pd.DataFrame(sorted_nodes, columns=['nodes', 'closeness_centrality'])\n",
    "\n",
    "# 显示前 10 名节点\n",
    "top_10 = df.head(10)\n",
    "print(top_10)\n"
   ]
  },
  {
   "cell_type": "code",
   "execution_count": 5,
   "id": "05680f77-7bc9-4104-8b23-b8780e318849",
   "metadata": {},
   "outputs": [
    {
     "name": "stdout",
     "output_type": "stream",
     "text": [
      "                  nodes  betweenness_centrality\n",
      "0             Stratford                0.098553\n",
      "1      Liverpool Street                0.034307\n",
      "2     Bank and Monument                0.027956\n",
      "3          Canary Wharf                0.027956\n",
      "4          Canning Town                0.027757\n",
      "5              West Ham                0.024551\n",
      "6  Highbury & Islington                0.023023\n",
      "7           Whitechapel                0.019682\n",
      "8          Canada Water                0.017898\n",
      "9              Shadwell                0.017070\n"
     ]
    }
   ],
   "source": [
    "import networkx as nx\n",
    "import pandas as pd\n",
    "\n",
    "# 假设您已经有一个名为 'G' 的 NetworkX 图\n",
    "# 请将 'G' 替换为您的图的名称\n",
    "\n",
    "# 计算特征向量中心性\n",
    "betweenness_centrality = nx.betweenness_centrality(g_station)\n",
    "\n",
    "# 按特征向量中心性对节点进行排序\n",
    "sorted_nodes = sorted(betweenness_centrality.items(), key=lambda x: x[1], reverse=True)\n",
    "\n",
    "# 创建一个 DataFrame 来显示结果\n",
    "df = pd.DataFrame(sorted_nodes, columns=['nodes', 'betweenness_centrality'])\n",
    "\n",
    "# 显示前 10 名节点\n",
    "top_10 = df.head(10)\n",
    "print(top_10)\n"
   ]
  },
  {
   "cell_type": "code",
   "execution_count": 21,
   "id": "bc5583ff-53e2-4a51-937b-bd6754c0bbaf",
   "metadata": {},
   "outputs": [
    {
     "name": "stdout",
     "output_type": "stream",
     "text": [
      "节点 Stratford 的加权聚类系数为: 0.3211207295909963\n",
      "删除节点 Stratford 后的加权聚类系数为: 0.07593104431412886\n",
      "节点 Victoria 的加权聚类系数为: 0.3575492855921996\n",
      "删除节点 Victoria 后的加权聚类系数为: 0.0843986262767244\n"
     ]
    }
   ],
   "source": [
    "import networkx as nx\n",
    "\n",
    "G= g_station_weighted\n",
    "\n",
    "# 计算节点1的加权聚类系数\n",
    "def weighted_clustering_coefficient(g_station_weighted, node):\n",
    "    neighbors = list(g_station_weighted.neighbors(node))\n",
    "    weighted_edges = []\n",
    "    for i in range(len(neighbors)):\n",
    "        for j in range(i+1, len(neighbors)):\n",
    "            neighbor_i = neighbors[i]\n",
    "            neighbor_j = neighbors[j]\n",
    "            if G.has_edge(neighbor_i, neighbor_j):\n",
    "                edge_weight = G[neighbor_i][neighbor_j]['weight']\n",
    "                weighted_edges.append(edge_weight)\n",
    "    if len(weighted_edges) < 2:\n",
    "        return 0\n",
    "    numerator = 2 * sum(weighted_edges)\n",
    "    denominator = len(weighted_edges) * (len(weighted_edges) - 1)\n",
    "    return numerator / denominator\n",
    "\n",
    "\n",
    "# 计算节点1的加权聚类系数\n",
    "node = 'Stratford'\n",
    "print(\"节点 {} 的加权聚类系数为: {}\".format(node, weighted_clustering_coefficient(G, node)))\n",
    "\n",
    "# 删除节点1\n",
    "g_station_weighted.remove_node(node)\n",
    "\n",
    "# 计算删除节点1后的加权聚类系数\n",
    "print(\"删除节点 {} 后的加权聚类系数为: {}\".format(node, nx.average_clustering(G, weight='weight')))\n",
    "\n",
    "# 计算节点1的加权聚类系数\n",
    "node = 'Victoria'\n",
    "print(\"节点 {} 的加权聚类系数为: {}\".format(node, weighted_clustering_coefficient(G, node)))\n",
    "\n",
    "# 删除节点1\n",
    "g_station_weighted.remove_node(node)\n",
    "\n",
    "# 计算删除节点1后的加权聚类系数\n",
    "print(\"删除节点 {} 后的加权聚类系数为: {}\".format(node, nx.average_clustering(G, weight='weight')))\n"
   ]
  },
  {
   "cell_type": "code",
   "execution_count": 24,
   "id": "202618fa-e603-4777-b4e2-5e178e631216",
   "metadata": {},
   "outputs": [
    {
     "name": "stdout",
     "output_type": "stream",
     "text": [
      "density before deletion: 0.3994660016876362\n",
      "density after deletion: 0.3981241218687898\n"
     ]
    }
   ],
   "source": [
    "import networkx as nx\n",
    "import matplotlib.pyplot as plt\n",
    "\n",
    "# Step 1: Create the graph\n",
    "g_station = nx.from_pandas_edgelist(file_network, 'station_origin', 'station_destination', 'flows')\n",
    "\n",
    "# Step 2: Calculate average shortest path length before deletion\n",
    "density_before = nx.density(g_station)\n",
    "print(\"density before deletion:\", density_before)\n",
    "\n",
    "# Step 3: Delete the node 'Stratford'\n",
    "g_station.remove_node('Waterloo')\n",
    "\n",
    "# Step 4: Calculate average shortest path length after deletion\n",
    "density_after = nx.density(g_station)\n",
    "print(\"density after deletion:\", density_after)\n"
   ]
  },
  {
   "cell_type": "code",
   "execution_count": 16,
   "id": "eaf7e157-1ca2-459a-ad91-b60433682305",
   "metadata": {},
   "outputs": [
    {
     "name": "stdout",
     "output_type": "stream",
     "text": [
      "density before deletion: 0.3994660016876362\n"
     ]
    },
    {
     "ename": "TypeError",
     "evalue": "Graph.remove_node() takes 2 positional arguments but 3 were given",
     "output_type": "error",
     "traceback": [
      "\u001b[0;31m---------------------------------------------------------------------------\u001b[0m",
      "\u001b[0;31mTypeError\u001b[0m                                 Traceback (most recent call last)",
      "Cell \u001b[0;32mIn[16], line 12\u001b[0m\n\u001b[1;32m      9\u001b[0m \u001b[38;5;28mprint\u001b[39m(\u001b[38;5;124m\"\u001b[39m\u001b[38;5;124mdensity before deletion:\u001b[39m\u001b[38;5;124m\"\u001b[39m, density_before)\n\u001b[1;32m     11\u001b[0m \u001b[38;5;66;03m# Step 3: Delete the node 'Stratford'\u001b[39;00m\n\u001b[0;32m---> 12\u001b[0m \u001b[43mg_station\u001b[49m\u001b[38;5;241;43m.\u001b[39;49m\u001b[43mremove_node\u001b[49m\u001b[43m(\u001b[49m\u001b[38;5;124;43m'\u001b[39;49m\u001b[38;5;124;43mWaterloo\u001b[39;49m\u001b[38;5;124;43m'\u001b[39;49m\u001b[43m,\u001b[49m\u001b[38;5;124;43m'\u001b[39;49m\u001b[38;5;124;43mStratford\u001b[39;49m\u001b[38;5;124;43m'\u001b[39;49m\u001b[43m)\u001b[49m\n\u001b[1;32m     14\u001b[0m \u001b[38;5;66;03m# Step 4: Calculate average shortest path length after deletion\u001b[39;00m\n\u001b[1;32m     15\u001b[0m density_after \u001b[38;5;241m=\u001b[39m nx\u001b[38;5;241m.\u001b[39mdensity(g_station)\n",
      "\u001b[0;31mTypeError\u001b[0m: Graph.remove_node() takes 2 positional arguments but 3 were given"
     ]
    }
   ],
   "source": [
    "import networkx as nx\n",
    "import matplotlib.pyplot as plt\n",
    "\n",
    "# Step 1: Create the graph\n",
    "g_station = nx.from_pandas_edgelist(file_network, 'station_origin', 'station_destination', 'flows')\n",
    "\n",
    "# Step 2: Calculate average shortest path length before deletion\n",
    "density_before = nx.density(g_station)\n",
    "print(\"density before deletion:\", density_before)\n",
    "\n",
    "# Step 3: Delete the node 'Stratford'\n",
    "g_station.remove_node('Stratford')\n",
    "\n",
    "# Step 4: Calculate average shortest path length after deletion\n",
    "density_after = nx.density(g_station)\n",
    "print(\"density after deletion:\", density_after)\n"
   ]
  },
  {
   "cell_type": "code",
   "execution_count": 15,
   "id": "b2f4a18b-379e-41e1-8d77-45cf039f89a9",
   "metadata": {},
   "outputs": [
    {
     "name": "stdout",
     "output_type": "stream",
     "text": [
      "density before deletion: 0.3994660016876362\n",
      "density after deletion: 0.39811146412161563\n"
     ]
    }
   ],
   "source": [
    "import networkx as nx\n",
    "import matplotlib.pyplot as plt\n",
    "\n",
    "# Step 1: Create the graph\n",
    "g_station = nx.from_pandas_edgelist(file_network, 'station_origin', 'station_destination', 'flows')\n",
    "\n",
    "# Step 2: Calculate average shortest path length before deletion\n",
    "density_before = nx.density(g_station)\n",
    "print(\"density before deletion:\", density_before)\n",
    "\n",
    "# Step 3: Delete the node 'Stratford'\n",
    "g_station.remove_node('Victoria')\n",
    "\n",
    "# Step 4: Calculate average shortest path length after deletion\n",
    "density_after = nx.density(g_station)\n",
    "print(\"density after deletion:\", density_after)\n"
   ]
  },
  {
   "cell_type": "code",
   "execution_count": 4,
   "id": "277991e5-4434-47f8-8044-2650dc688232",
   "metadata": {},
   "outputs": [
    {
     "name": "stdout",
     "output_type": "stream",
     "text": [
      "Average Shortest Path Length before deletion: 1.6136855562446997\n",
      "Average Shortest Path Length after deletion: 1.6415031931404727\n"
     ]
    }
   ],
   "source": [
    "# Step 2: Calculate average shortest path length before deletion\n",
    "avg_shortest_path_length_before = nx.average_shortest_path_length(g_station)\n",
    "print(\"Average Shortest Path Length before deletion:\", avg_shortest_path_length_before)\n",
    "\n",
    "# Step 3: Delete the node 'Stratford'\n",
    "g_station.remove_node('Stratford')\n",
    "\n",
    "# Step 4: Calculate average shortest path length after deletion\n",
    "avg_shortest_path_length_after = nx.average_shortest_path_length(g_station)\n",
    "print(\"Average Shortest Path Length after deletion:\", avg_shortest_path_length_after)"
   ]
  },
  {
   "cell_type": "code",
   "execution_count": 5,
   "id": "140d26d2-dd7b-4fb2-bb84-e8e351c10d32",
   "metadata": {},
   "outputs": [
    {
     "name": "stdout",
     "output_type": "stream",
     "text": [
      "Average Shortest Path Length before deletion: 1.6415031931404727\n",
      "Average Shortest Path Length after deletion: 1.6430507607722797\n"
     ]
    }
   ],
   "source": [
    "# Step 2: Calculate average shortest path length before deletion\n",
    "avg_shortest_path_length_before = nx.average_shortest_path_length(g_station)\n",
    "print(\"Average Shortest Path Length before deletion:\", avg_shortest_path_length_before)\n",
    "\n",
    "# Step 3: Delete the node 'Stratford'\n",
    "g_station.remove_node('Victoria')\n",
    "\n",
    "# Step 4: Calculate average shortest path length after deletion\n",
    "avg_shortest_path_length_after = nx.average_shortest_path_length(g_station)\n",
    "print(\"Average Shortest Path Length after deletion:\", avg_shortest_path_length_after)"
   ]
  },
  {
   "cell_type": "code",
   "execution_count": 32,
   "id": "d7881e60-eb8d-40ac-81a8-987d561956e9",
   "metadata": {},
   "outputs": [
    {
     "name": "stdout",
     "output_type": "stream",
     "text": [
      "                  nodes  eigenvector_centrality\n",
      "0          Canada Water                0.073328\n",
      "1      Liverpool Street                0.073265\n",
      "2          Canary Wharf                0.073052\n",
      "3           Whitechapel                0.072992\n",
      "4         London Bridge                0.072748\n",
      "5              Victoria                0.072748\n",
      "6     Bank and Monument                0.072721\n",
      "7  Highbury & Islington                0.072671\n",
      "8            Paddington                0.072652\n",
      "9          Canning Town                0.072583\n"
     ]
    }
   ],
   "source": [
    "\n",
    "# 计算特征向量中心性\n",
    "eigenvector_centrality = nx.eigenvector_centrality(g_station)\n",
    "\n",
    "# 按特征向量中心性对节点进行排序\n",
    "sorted_nodes = sorted(eigenvector_centrality.items(), key=lambda x: x[1], reverse=True)\n",
    "\n",
    "# 创建一个 DataFrame 来显示结果\n",
    "df = pd.DataFrame(sorted_nodes, columns=['nodes', 'eigenvector_centrality'])\n",
    "\n",
    "# 显示前 10 名节点\n",
    "top_10 = df.head(10)\n",
    "print(top_10)"
   ]
  },
  {
   "cell_type": "code",
   "execution_count": null,
   "id": "deb5ed58-33cb-4710-9f11-050bd0b90a32",
   "metadata": {},
   "outputs": [],
   "source": []
  },
  {
   "cell_type": "code",
   "execution_count": null,
   "id": "06ccc1a8-5bbd-457b-a52c-005d48206a6e",
   "metadata": {},
   "outputs": [],
   "source": []
  },
  {
   "cell_type": "code",
   "execution_count": 33,
   "id": "10206bdf-dd35-4d83-a8cd-b7fb02fe15c9",
   "metadata": {},
   "outputs": [
    {
     "name": "stdout",
     "output_type": "stream",
     "text": [
      "Average Shortest Path Length before deletion: 1.6399756971254256\n",
      "Average Shortest Path Length after deletion: 1.6420756685240312\n"
     ]
    }
   ],
   "source": [
    "# Step 2: Calculate average shortest path length before deletion\n",
    "avg_shortest_path_length_before = nx.average_shortest_path_length(g_station)\n",
    "print(\"Average Shortest Path Length before deletion:\", avg_shortest_path_length_before)\n",
    "\n",
    "# Step 3: Delete the node 'Stratford'\n",
    "g_station.remove_node('Canada Water')\n",
    "\n",
    "# Step 4: Calculate average shortest path length after deletion\n",
    "avg_shortest_path_length_after = nx.average_shortest_path_length(g_station)\n",
    "print(\"Average Shortest Path Length after deletion:\", avg_shortest_path_length_after)\n"
   ]
  },
  {
   "cell_type": "code",
   "execution_count": 34,
   "id": "81448d2c-3b31-47a7-8aea-fd429e2d8cef",
   "metadata": {},
   "outputs": [
    {
     "name": "stdout",
     "output_type": "stream",
     "text": [
      "                  nodes  eigenvector_centrality\n",
      "0      Liverpool Street                0.073508\n",
      "1          Canary Wharf                0.073303\n",
      "2           Whitechapel                0.073176\n",
      "3         London Bridge                0.072997\n",
      "4              Victoria                0.072997\n",
      "5     Bank and Monument                0.072970\n",
      "6            Paddington                0.072901\n",
      "7  Highbury & Islington                0.072853\n",
      "8          Canning Town                0.072831\n",
      "9              Waterloo                0.072767\n"
     ]
    }
   ],
   "source": [
    "# 计算特征向量中心性\n",
    "eigenvector_centrality = nx.eigenvector_centrality(g_station)\n",
    "\n",
    "# 按特征向量中心性对节点进行排序\n",
    "sorted_nodes = sorted(eigenvector_centrality.items(), key=lambda x: x[1], reverse=True)\n",
    "\n",
    "# 创建一个 DataFrame 来显示结果\n",
    "df = pd.DataFrame(sorted_nodes, columns=['nodes', 'eigenvector_centrality'])\n",
    "\n",
    "# 显示前 10 名节点\n",
    "top_10 = df.head(10)\n",
    "print(top_10)"
   ]
  },
  {
   "cell_type": "code",
   "execution_count": 35,
   "id": "95e89702-65d8-4c0b-aa7e-b431beaa395c",
   "metadata": {},
   "outputs": [
    {
     "name": "stdout",
     "output_type": "stream",
     "text": [
      "Average Shortest Path Length before deletion: 1.6420756685240312\n",
      "Average Shortest Path Length after deletion: 1.7153688786600179\n"
     ]
    }
   ],
   "source": [
    "# Step 2: Calculate average shortest path length before deletion\n",
    "avg_shortest_path_length_before = nx.average_shortest_path_length(g_station)\n",
    "print(\"Average Shortest Path Length before deletion:\", avg_shortest_path_length_before)\n",
    "\n",
    "# Step 3: Delete the node 'Stratford'\n",
    "g_station.remove_node('Liverpool Street')\n",
    "\n",
    "# Step 4: Calculate average shortest path length after deletion\n",
    "avg_shortest_path_length_after = nx.average_shortest_path_length(g_station)\n",
    "print(\"Average Shortest Path Length after deletion:\", avg_shortest_path_length_after)\n"
   ]
  },
  {
   "cell_type": "code",
   "execution_count": 36,
   "id": "b66a0d5c-fafc-46c5-beb2-3da23c0d55be",
   "metadata": {},
   "outputs": [
    {
     "name": "stdout",
     "output_type": "stream",
     "text": [
      "                  nodes  eigenvector_centrality\n",
      "0          Canary Wharf                0.073555\n",
      "1           Whitechapel                0.073412\n",
      "2         London Bridge                0.073243\n",
      "3              Victoria                0.073243\n",
      "4     Bank and Monument                0.073218\n",
      "5            Paddington                0.073148\n",
      "6          Canning Town                0.073079\n",
      "7  Highbury & Islington                0.073079\n",
      "8              Waterloo                0.073012\n",
      "9            Old Street                0.072908\n"
     ]
    }
   ],
   "source": [
    "# 计算特征向量中心性\n",
    "eigenvector_centrality = nx.eigenvector_centrality(g_station)\n",
    "\n",
    "# 按特征向量中心性对节点进行排序\n",
    "sorted_nodes = sorted(eigenvector_centrality.items(), key=lambda x: x[1], reverse=True)\n",
    "\n",
    "# 创建一个 DataFrame 来显示结果\n",
    "df = pd.DataFrame(sorted_nodes, columns=['nodes', 'eigenvector_centrality'])\n",
    "\n",
    "# 显示前 10 名节点\n",
    "top_10 = df.head(10)\n",
    "print(top_10)"
   ]
  },
  {
   "cell_type": "code",
   "execution_count": 38,
   "id": "ff5ad1b9-d144-40db-ac1f-775fe20aaec4",
   "metadata": {},
   "outputs": [
    {
     "name": "stdout",
     "output_type": "stream",
     "text": [
      "Average Shortest Path Length before deletion: 1.7153688786600179\n",
      "Average Shortest Path Length after deletion: 1.7176636895200155\n"
     ]
    }
   ],
   "source": [
    "# Step 2: Calculate average shortest path length before deletion\n",
    "avg_shortest_path_length_before = nx.average_shortest_path_length(g_station)\n",
    "print(\"Average Shortest Path Length before deletion:\", avg_shortest_path_length_before)\n",
    "\n",
    "# Step 3: Delete the node 'Stratford'\n",
    "g_station.remove_node('Canary Wharf')\n",
    "\n",
    "# Step 4: Calculate average shortest path length after deletion\n",
    "avg_shortest_path_length_after = nx.average_shortest_path_length(g_station)\n",
    "print(\"Average Shortest Path Length after deletion:\", avg_shortest_path_length_after)\n"
   ]
  },
  {
   "cell_type": "code",
   "execution_count": 39,
   "id": "f0929293-268c-40a8-b6c1-02778446a093",
   "metadata": {},
   "outputs": [
    {
     "name": "stdout",
     "output_type": "stream",
     "text": [
      "                  nodes  eigenvector_centrality\n",
      "0           Whitechapel                0.073666\n",
      "1         London Bridge                0.073489\n",
      "2              Victoria                0.073489\n",
      "3            Paddington                0.073394\n",
      "4     Bank and Monument                0.073390\n",
      "5  Highbury & Islington                0.073331\n",
      "6              Waterloo                0.073256\n",
      "7          Canning Town                0.073251\n",
      "8           Bond Street                0.073151\n",
      "9            Embankment                0.073151\n"
     ]
    }
   ],
   "source": [
    "# 计算特征向量中心性\n",
    "eigenvector_centrality = nx.eigenvector_centrality(g_station)\n",
    "\n",
    "# 按特征向量中心性对节点进行排序\n",
    "sorted_nodes = sorted(eigenvector_centrality.items(), key=lambda x: x[1], reverse=True)\n",
    "\n",
    "# 创建一个 DataFrame 来显示结果\n",
    "df = pd.DataFrame(sorted_nodes, columns=['nodes', 'eigenvector_centrality'])\n",
    "\n",
    "# 显示前 10 名节点\n",
    "top_10 = df.head(10)\n",
    "print(top_10)"
   ]
  },
  {
   "cell_type": "code",
   "execution_count": 40,
   "id": "90c2099d-a684-4941-94a8-40168958d700",
   "metadata": {},
   "outputs": [
    {
     "name": "stdout",
     "output_type": "stream",
     "text": [
      "Average Shortest Path Length before deletion: 1.7176636895200155\n",
      "Average Shortest Path Length after deletion: 1.7239121168675167\n"
     ]
    }
   ],
   "source": [
    "# Step 2: Calculate average shortest path length before deletion\n",
    "avg_shortest_path_length_before = nx.average_shortest_path_length(g_station)\n",
    "print(\"Average Shortest Path Length before deletion:\", avg_shortest_path_length_before)\n",
    "\n",
    "# Step 3: Delete the node 'Stratford'\n",
    "g_station.remove_node('Whitechapel')\n",
    "\n",
    "# Step 4: Calculate average shortest path length after deletion\n",
    "avg_shortest_path_length_after = nx.average_shortest_path_length(g_station)\n",
    "print(\"Average Shortest Path Length after deletion:\", avg_shortest_path_length_after)\n"
   ]
  },
  {
   "cell_type": "code",
   "execution_count": 41,
   "id": "c87f3af4-f561-4908-8d5a-ce12103c95c5",
   "metadata": {},
   "outputs": [
    {
     "name": "stdout",
     "output_type": "stream",
     "text": [
      "                  nodes  eigenvector_centrality\n",
      "0         London Bridge                0.073745\n",
      "1              Victoria                0.073745\n",
      "2            Paddington                0.073649\n",
      "3     Bank and Monument                0.073644\n",
      "4              Waterloo                0.073510\n",
      "5          Canning Town                0.073503\n",
      "6  Highbury & Islington                0.073502\n",
      "7  Tottenham Court Road                0.073403\n",
      "8         Warren Street                0.073403\n",
      "9           Westminster                0.073403\n"
     ]
    }
   ],
   "source": [
    "# 计算特征向量中心性\n",
    "eigenvector_centrality = nx.eigenvector_centrality(g_station)\n",
    "\n",
    "# 按特征向量中心性对节点进行排序\n",
    "sorted_nodes = sorted(eigenvector_centrality.items(), key=lambda x: x[1], reverse=True)\n",
    "\n",
    "# 创建一个 DataFrame 来显示结果\n",
    "df = pd.DataFrame(sorted_nodes, columns=['nodes', 'eigenvector_centrality'])\n",
    "\n",
    "# 显示前 10 名节点\n",
    "top_10 = df.head(10)\n",
    "print(top_10)"
   ]
  },
  {
   "cell_type": "code",
   "execution_count": 42,
   "id": "91b4ec48-99c7-48eb-a348-a6cb332b725b",
   "metadata": {},
   "outputs": [
    {
     "name": "stdout",
     "output_type": "stream",
     "text": [
      "Average Shortest Path Length before deletion: 1.7239121168675167\n",
      "Average Shortest Path Length after deletion: 1.72572311367295\n"
     ]
    }
   ],
   "source": [
    "# Step 2: Calculate average shortest path length before deletion\n",
    "avg_shortest_path_length_before = nx.average_shortest_path_length(g_station)\n",
    "print(\"Average Shortest Path Length before deletion:\", avg_shortest_path_length_before)\n",
    "\n",
    "# Step 3: Delete the node 'Stratford'\n",
    "g_station.remove_node('London Bridge')\n",
    "\n",
    "# Step 4: Calculate average shortest path length after deletion\n",
    "avg_shortest_path_length_after = nx.average_shortest_path_length(g_station)\n",
    "print(\"Average Shortest Path Length after deletion:\", avg_shortest_path_length_after)\n"
   ]
  },
  {
   "cell_type": "code",
   "execution_count": 43,
   "id": "56f12600-7373-45fc-bbae-aedd18b56a76",
   "metadata": {},
   "outputs": [
    {
     "name": "stdout",
     "output_type": "stream",
     "text": [
      "                    nodes  eigenvector_centrality\n",
      "0                Victoria                0.073991\n",
      "1              Paddington                0.073896\n",
      "2       Bank and Monument                0.073891\n",
      "3    Highbury & Islington                0.073756\n",
      "4                Waterloo                0.073755\n",
      "5            Canning Town                0.073750\n",
      "6             Bond Street                0.073647\n",
      "7              Embankment                0.073647\n",
      "8              Green Park                0.073647\n",
      "9  High Street Kensington                0.073647\n"
     ]
    }
   ],
   "source": [
    "# 计算特征向量中心性\n",
    "eigenvector_centrality = nx.eigenvector_centrality(g_station)\n",
    "\n",
    "# 按特征向量中心性对节点进行排序\n",
    "sorted_nodes = sorted(eigenvector_centrality.items(), key=lambda x: x[1], reverse=True)\n",
    "\n",
    "# 创建一个 DataFrame 来显示结果\n",
    "df = pd.DataFrame(sorted_nodes, columns=['nodes', 'eigenvector_centrality'])\n",
    "\n",
    "# 显示前 10 名节点\n",
    "top_10 = df.head(10)\n",
    "print(top_10)"
   ]
  },
  {
   "cell_type": "code",
   "execution_count": 44,
   "id": "2321a230-2d86-4d18-8ba9-300b4f96f5e3",
   "metadata": {},
   "outputs": [
    {
     "name": "stdout",
     "output_type": "stream",
     "text": [
      "Average Shortest Path Length before deletion: 1.72572311367295\n",
      "Average Shortest Path Length after deletion: 1.7275431911895194\n"
     ]
    }
   ],
   "source": [
    "# Step 2: Calculate average shortest path length before deletion\n",
    "avg_shortest_path_length_before = nx.average_shortest_path_length(g_station)\n",
    "print(\"Average Shortest Path Length before deletion:\", avg_shortest_path_length_before)\n",
    "\n",
    "# Step 3: Delete the node 'Stratford'\n",
    "g_station.remove_node('Victoria')\n",
    "\n",
    "# Step 4: Calculate average shortest path length after deletion\n",
    "avg_shortest_path_length_after = nx.average_shortest_path_length(g_station)\n",
    "print(\"Average Shortest Path Length after deletion:\", avg_shortest_path_length_after)\n"
   ]
  },
  {
   "cell_type": "code",
   "execution_count": 45,
   "id": "50964dd3-95c8-454e-8c66-3e9b060fc604",
   "metadata": {},
   "outputs": [
    {
     "name": "stdout",
     "output_type": "stream",
     "text": [
      "                    nodes  eigenvector_centrality\n",
      "0              Paddington                0.074145\n",
      "1       Bank and Monument                0.074141\n",
      "2    Highbury & Islington                0.074013\n",
      "3                Waterloo                0.074002\n",
      "4            Canning Town                0.073999\n",
      "5             Bond Street                0.073893\n",
      "6              Embankment                0.073893\n",
      "7              Green Park                0.073893\n",
      "8  High Street Kensington                0.073893\n",
      "9                 Holborn                0.073893\n"
     ]
    }
   ],
   "source": [
    "# 计算特征向量中心性\n",
    "eigenvector_centrality = nx.eigenvector_centrality(g_station)\n",
    "\n",
    "# 按特征向量中心性对节点进行排序\n",
    "sorted_nodes = sorted(eigenvector_centrality.items(), key=lambda x: x[1], reverse=True)\n",
    "\n",
    "# 创建一个 DataFrame 来显示结果\n",
    "df = pd.DataFrame(sorted_nodes, columns=['nodes', 'eigenvector_centrality'])\n",
    "\n",
    "# 显示前 10 名节点\n",
    "top_10 = df.head(10)\n",
    "print(top_10)"
   ]
  },
  {
   "cell_type": "code",
   "execution_count": 46,
   "id": "7eab2148-503a-4c5f-88ea-bf734fc7dcbd",
   "metadata": {},
   "outputs": [
    {
     "name": "stdout",
     "output_type": "stream",
     "text": [
      "Average Shortest Path Length before deletion: 1.7275431911895194\n",
      "Average Shortest Path Length after deletion: 1.7293593022493279\n"
     ]
    }
   ],
   "source": [
    "# Step 2: Calculate average shortest path length before deletion\n",
    "avg_shortest_path_length_before = nx.average_shortest_path_length(g_station)\n",
    "print(\"Average Shortest Path Length before deletion:\", avg_shortest_path_length_before)\n",
    "\n",
    "# Step 3: Delete the node 'Stratford'\n",
    "g_station.remove_node('Paddington')\n",
    "\n",
    "# Step 4: Calculate average shortest path length after deletion\n",
    "avg_shortest_path_length_after = nx.average_shortest_path_length(g_station)\n",
    "print(\"Average Shortest Path Length after deletion:\", avg_shortest_path_length_after)\n"
   ]
  },
  {
   "cell_type": "code",
   "execution_count": 47,
   "id": "7060b818-f780-40a6-9612-faabbcff8604",
   "metadata": {},
   "outputs": [
    {
     "name": "stdout",
     "output_type": "stream",
     "text": [
      "                      nodes  eigenvector_centrality\n",
      "0         Bank and Monument                0.074394\n",
      "1      Highbury & Islington                0.074272\n",
      "2                  Waterloo                0.074253\n",
      "3              Canning Town                0.074252\n",
      "4               Bond Street                0.074142\n",
      "5                Embankment                0.074142\n",
      "6                Green Park                0.074142\n",
      "7    High Street Kensington                0.074142\n",
      "8                   Holborn                0.074142\n",
      "9  King's Cross St. Pancras                0.074142\n"
     ]
    }
   ],
   "source": [
    "# 计算特征向量中心性\n",
    "eigenvector_centrality = nx.eigenvector_centrality(g_station)\n",
    "\n",
    "# 按特征向量中心性对节点进行排序\n",
    "sorted_nodes = sorted(eigenvector_centrality.items(), key=lambda x: x[1], reverse=True)\n",
    "\n",
    "# 创建一个 DataFrame 来显示结果\n",
    "df = pd.DataFrame(sorted_nodes, columns=['nodes', 'eigenvector_centrality'])\n",
    "\n",
    "# 显示前 10 名节点\n",
    "top_10 = df.head(10)\n",
    "print(top_10)"
   ]
  },
  {
   "cell_type": "code",
   "execution_count": 48,
   "id": "a884a739-85a3-4e4f-a2eb-60181a8ca510",
   "metadata": {},
   "outputs": [
    {
     "name": "stdout",
     "output_type": "stream",
     "text": [
      "Average Shortest Path Length before deletion: 1.7293593022493279\n",
      "Average Shortest Path Length after deletion: 1.7322523235119636\n"
     ]
    }
   ],
   "source": [
    "# Step 2: Calculate average shortest path length before deletion\n",
    "avg_shortest_path_length_before = nx.average_shortest_path_length(g_station)\n",
    "print(\"Average Shortest Path Length before deletion:\", avg_shortest_path_length_before)\n",
    "\n",
    "# Step 3: Delete the node 'Stratford'\n",
    "g_station.remove_node('Bank and Monument')\n",
    "\n",
    "# Step 4: Calculate average shortest path length after deletion\n",
    "avg_shortest_path_length_after = nx.average_shortest_path_length(g_station)\n",
    "print(\"Average Shortest Path Length after deletion:\", avg_shortest_path_length_after)\n"
   ]
  },
  {
   "cell_type": "code",
   "execution_count": 49,
   "id": "f4cb219b-96c9-4a6d-b11e-6d3cd4eb291f",
   "metadata": {},
   "outputs": [
    {
     "name": "stdout",
     "output_type": "stream",
     "text": [
      "                      nodes  eigenvector_centrality\n",
      "0      Highbury & Islington                0.074535\n",
      "1                  Waterloo                0.074508\n",
      "2              Canning Town                0.074428\n",
      "3               Bond Street                0.074395\n",
      "4                Embankment                0.074395\n",
      "5                Green Park                0.074395\n",
      "6    High Street Kensington                0.074395\n",
      "7                   Holborn                0.074395\n",
      "8  King's Cross St. Pancras                0.074395\n",
      "9                Old Street                0.074395\n"
     ]
    }
   ],
   "source": [
    "# 计算特征向量中心性\n",
    "eigenvector_centrality = nx.eigenvector_centrality(g_station)\n",
    "\n",
    "# 按特征向量中心性对节点进行排序\n",
    "sorted_nodes = sorted(eigenvector_centrality.items(), key=lambda x: x[1], reverse=True)\n",
    "\n",
    "# 创建一个 DataFrame 来显示结果\n",
    "df = pd.DataFrame(sorted_nodes, columns=['nodes', 'eigenvector_centrality'])\n",
    "\n",
    "# 显示前 10 名节点\n",
    "top_10 = df.head(10)\n",
    "print(top_10)"
   ]
  },
  {
   "cell_type": "code",
   "execution_count": 50,
   "id": "242c0731-1521-4033-9687-bc31c8be9d8c",
   "metadata": {},
   "outputs": [
    {
     "name": "stdout",
     "output_type": "stream",
     "text": [
      "Average Shortest Path Length before deletion: 1.7322523235119636\n",
      "Average Shortest Path Length after deletion: 1.7427848302546842\n"
     ]
    }
   ],
   "source": [
    "# Step 2: Calculate average shortest path length before deletion\n",
    "avg_shortest_path_length_before = nx.average_shortest_path_length(g_station)\n",
    "print(\"Average Shortest Path Length before deletion:\", avg_shortest_path_length_before)\n",
    "\n",
    "# Step 3: Delete the node 'Stratford'\n",
    "g_station.remove_node('Highbury & Islington')\n",
    "\n",
    "# Step 4: Calculate average shortest path length after deletion\n",
    "avg_shortest_path_length_after = nx.average_shortest_path_length(g_station)\n",
    "print(\"Average Shortest Path Length after deletion:\", avg_shortest_path_length_after)\n"
   ]
  },
  {
   "cell_type": "markdown",
   "id": "a3b64020-4845-4d3c-ab81-49d1d3c18359",
   "metadata": {},
   "source": [
    "# 分界线"
   ]
  },
  {
   "cell_type": "code",
   "execution_count": 56,
   "id": "6b83c2a8-c179-4af1-99a4-f4ca157602ea",
   "metadata": {},
   "outputs": [
    {
     "name": "stdout",
     "output_type": "stream",
     "text": [
      "Average Shortest Path Length before deletion: 1.6122970743441518\n",
      "Average Shortest Path Length after deletion: 1.6148120957431997\n"
     ]
    }
   ],
   "source": [
    "# Step 2: Calculate average shortest path length before deletion\n",
    "avg_shortest_path_length_before = nx.average_shortest_path_length(g_station)\n",
    "print(\"Average Shortest Path Length before deletion:\", avg_shortest_path_length_before)\n",
    "\n",
    "# Step 3: Delete the node 'Stratford'\n",
    "g_station.remove_node('Liverpool Street')\n",
    "\n",
    "# Step 4: Calculate average shortest path length after deletion\n",
    "avg_shortest_path_length_after = nx.average_shortest_path_length(g_station)\n",
    "print(\"Average Shortest Path Length after deletion:\", avg_shortest_path_length_after)"
   ]
  },
  {
   "cell_type": "code",
   "execution_count": 8,
   "id": "486af107-dc04-4be8-8379-da9cb6b7d125",
   "metadata": {},
   "outputs": [
    {
     "name": "stdout",
     "output_type": "stream",
     "text": [
      "Average Shortest Path Length before deletion: 1.7130371727349056\n",
      "Average Shortest Path Length after deletion: 1.715317734305076\n"
     ]
    }
   ],
   "source": [
    "# Step 2: Calculate average shortest path length before deletion\n",
    "avg_shortest_path_length_before = nx.average_shortest_path_length(g_station)\n",
    "print(\"Average Shortest Path Length before deletion:\", avg_shortest_path_length_before)\n",
    "\n",
    "# Step 3: Delete the node 'Stratford'\n",
    "g_station.remove_node('Bank and Monument')\n",
    "\n",
    "# Step 4: Calculate average shortest path length after deletion\n",
    "avg_shortest_path_length_after = nx.average_shortest_path_length(g_station)\n",
    "print(\"Average Shortest Path Length after deletion:\", avg_shortest_path_length_after)"
   ]
  },
  {
   "cell_type": "code",
   "execution_count": 9,
   "id": "cd1b0f3a-2468-4f14-badf-e70de9c7bb91",
   "metadata": {},
   "outputs": [
    {
     "name": "stdout",
     "output_type": "stream",
     "text": [
      "Average Shortest Path Length before deletion: 1.715317734305076\n",
      "Average Shortest Path Length after deletion: 1.718113474265887\n"
     ]
    }
   ],
   "source": [
    "# Step 2: Calculate average shortest path length before deletion\n",
    "avg_shortest_path_length_before = nx.average_shortest_path_length(g_station)\n",
    "print(\"Average Shortest Path Length before deletion:\", avg_shortest_path_length_before)\n",
    "\n",
    "# Step 3: Delete the node 'Stratford'\n",
    "g_station.remove_node('Canary Wharf')\n",
    "\n",
    "# Step 4: Calculate average shortest path length after deletion\n",
    "avg_shortest_path_length_after = nx.average_shortest_path_length(g_station)\n",
    "print(\"Average Shortest Path Length after deletion:\", avg_shortest_path_length_after)"
   ]
  },
  {
   "cell_type": "code",
   "execution_count": 10,
   "id": "58c68e9d-c305-477c-bde4-acf618762804",
   "metadata": {},
   "outputs": [
    {
     "name": "stdout",
     "output_type": "stream",
     "text": [
      "Average Shortest Path Length before deletion: 1.718113474265887\n",
      "Average Shortest Path Length after deletion: 1.7324369357151161\n"
     ]
    }
   ],
   "source": [
    "# Step 2: Calculate average shortest path length before deletion\n",
    "avg_shortest_path_length_before = nx.average_shortest_path_length(g_station)\n",
    "print(\"Average Shortest Path Length before deletion:\", avg_shortest_path_length_before)\n",
    "\n",
    "# Step 3: Delete the node 'Stratford'\n",
    "g_station.remove_node('Canning Town')\n",
    "\n",
    "# Step 4: Calculate average shortest path length after deletion\n",
    "avg_shortest_path_length_after = nx.average_shortest_path_length(g_station)\n",
    "print(\"Average Shortest Path Length after deletion:\", avg_shortest_path_length_after)"
   ]
  },
  {
   "cell_type": "code",
   "execution_count": 11,
   "id": "98648c3c-0577-491e-8b68-91a5833c683a",
   "metadata": {},
   "outputs": [
    {
     "name": "stdout",
     "output_type": "stream",
     "text": [
      "Average Shortest Path Length before deletion: 1.7324369357151161\n",
      "Average Shortest Path Length after deletion: 1.8552084956119852\n"
     ]
    }
   ],
   "source": [
    "# Step 2: Calculate average shortest path length before deletion\n",
    "avg_shortest_path_length_before = nx.average_shortest_path_length(g_station)\n",
    "print(\"Average Shortest Path Length before deletion:\", avg_shortest_path_length_before)\n",
    "\n",
    "# Step 3: Delete the node 'Stratford'\n",
    "g_station.remove_node('West Ham')\n",
    "\n",
    "# Step 4: Calculate average shortest path length after deletion\n",
    "avg_shortest_path_length_after = nx.average_shortest_path_length(g_station)\n",
    "print(\"Average Shortest Path Length after deletion:\", avg_shortest_path_length_after)"
   ]
  },
  {
   "cell_type": "code",
   "execution_count": 12,
   "id": "dcc1ec3e-bfd7-4b9a-94bd-421a061c2544",
   "metadata": {},
   "outputs": [
    {
     "name": "stdout",
     "output_type": "stream",
     "text": [
      "Average Shortest Path Length before deletion: 1.8552084956119852\n",
      "Average Shortest Path Length after deletion: 1.858382483428154\n"
     ]
    }
   ],
   "source": [
    "# Step 2: Calculate average shortest path length before deletion\n",
    "avg_shortest_path_length_before = nx.average_shortest_path_length(g_station)\n",
    "print(\"Average Shortest Path Length before deletion:\", avg_shortest_path_length_before)\n",
    "\n",
    "# Step 3: Delete the node 'Stratford'\n",
    "g_station.remove_node('Highbury & Islington')\n",
    "\n",
    "# Step 4: Calculate average shortest path length after deletion\n",
    "avg_shortest_path_length_after = nx.average_shortest_path_length(g_station)\n",
    "print(\"Average Shortest Path Length after deletion:\", avg_shortest_path_length_after)"
   ]
  },
  {
   "cell_type": "code",
   "execution_count": 13,
   "id": "47a2710a-ea63-40f1-ad7f-c7427ac7fdc9",
   "metadata": {},
   "outputs": [
    {
     "name": "stdout",
     "output_type": "stream",
     "text": [
      "Average Shortest Path Length before deletion: 1.858382483428154\n",
      "Average Shortest Path Length after deletion: 1.8615122303101843\n"
     ]
    }
   ],
   "source": [
    "# Step 2: Calculate average shortest path length before deletion\n",
    "avg_shortest_path_length_before = nx.average_shortest_path_length(g_station)\n",
    "print(\"Average Shortest Path Length before deletion:\", avg_shortest_path_length_before)\n",
    "\n",
    "# Step 3: Delete the node 'Stratford'\n",
    "g_station.remove_node('Whitechapel')\n",
    "\n",
    "# Step 4: Calculate average shortest path length after deletion\n",
    "avg_shortest_path_length_after = nx.average_shortest_path_length(g_station)\n",
    "print(\"Average Shortest Path Length after deletion:\", avg_shortest_path_length_after)"
   ]
  },
  {
   "cell_type": "code",
   "execution_count": 14,
   "id": "e2257e58-003f-4919-9359-6dc875f1be19",
   "metadata": {},
   "outputs": [
    {
     "name": "stdout",
     "output_type": "stream",
     "text": [
      "Average Shortest Path Length before deletion: 1.8615122303101843\n",
      "Average Shortest Path Length after deletion: 1.8770944565289038\n"
     ]
    }
   ],
   "source": [
    "# Step 2: Calculate average shortest path length before deletion\n",
    "avg_shortest_path_length_before = nx.average_shortest_path_length(g_station)\n",
    "print(\"Average Shortest Path Length before deletion:\", avg_shortest_path_length_before)\n",
    "\n",
    "# Step 3: Delete the node 'Stratford'\n",
    "g_station.remove_node('Canada Water')\n",
    "\n",
    "# Step 4: Calculate average shortest path length after deletion\n",
    "avg_shortest_path_length_after = nx.average_shortest_path_length(g_station)\n",
    "print(\"Average Shortest Path Length after deletion:\", avg_shortest_path_length_after)"
   ]
  },
  {
   "cell_type": "code",
   "execution_count": 15,
   "id": "4b04160e-7238-484f-8e9c-4c9d0e95adfc",
   "metadata": {},
   "outputs": [
    {
     "name": "stdout",
     "output_type": "stream",
     "text": [
      "Average Shortest Path Length before deletion: 1.8770944565289038\n"
     ]
    },
    {
     "ename": "NetworkXError",
     "evalue": "Graph is not connected.",
     "output_type": "error",
     "traceback": [
      "\u001b[0;31m---------------------------------------------------------------------------\u001b[0m",
      "\u001b[0;31mNetworkXError\u001b[0m                             Traceback (most recent call last)",
      "Cell \u001b[0;32mIn[15], line 9\u001b[0m\n\u001b[1;32m      6\u001b[0m g_station\u001b[38;5;241m.\u001b[39mremove_node(\u001b[38;5;124m'\u001b[39m\u001b[38;5;124mShadwell\u001b[39m\u001b[38;5;124m'\u001b[39m)\n\u001b[1;32m      8\u001b[0m \u001b[38;5;66;03m# Step 4: Calculate average shortest path length after deletion\u001b[39;00m\n\u001b[0;32m----> 9\u001b[0m avg_shortest_path_length_after \u001b[38;5;241m=\u001b[39m \u001b[43mnx\u001b[49m\u001b[38;5;241;43m.\u001b[39;49m\u001b[43maverage_shortest_path_length\u001b[49m\u001b[43m(\u001b[49m\u001b[43mg_station\u001b[49m\u001b[43m)\u001b[49m\n\u001b[1;32m     10\u001b[0m \u001b[38;5;28mprint\u001b[39m(\u001b[38;5;124m\"\u001b[39m\u001b[38;5;124mAverage Shortest Path Length after deletion:\u001b[39m\u001b[38;5;124m\"\u001b[39m, avg_shortest_path_length_after)\n",
      "File \u001b[0;32m/opt/conda/lib/python3.11/site-packages/networkx/algorithms/shortest_paths/generic.py:416\u001b[0m, in \u001b[0;36maverage_shortest_path_length\u001b[0;34m(G, weight, method)\u001b[0m\n\u001b[1;32m    414\u001b[0m \u001b[38;5;66;03m# Shortest path length is undefined if the graph is not connected.\u001b[39;00m\n\u001b[1;32m    415\u001b[0m \u001b[38;5;28;01mif\u001b[39;00m \u001b[38;5;129;01mnot\u001b[39;00m G\u001b[38;5;241m.\u001b[39mis_directed() \u001b[38;5;129;01mand\u001b[39;00m \u001b[38;5;129;01mnot\u001b[39;00m nx\u001b[38;5;241m.\u001b[39mis_connected(G):\n\u001b[0;32m--> 416\u001b[0m     \u001b[38;5;28;01mraise\u001b[39;00m nx\u001b[38;5;241m.\u001b[39mNetworkXError(\u001b[38;5;124m\"\u001b[39m\u001b[38;5;124mGraph is not connected.\u001b[39m\u001b[38;5;124m\"\u001b[39m)\n\u001b[1;32m    418\u001b[0m \u001b[38;5;66;03m# Compute all-pairs shortest paths.\u001b[39;00m\n\u001b[1;32m    419\u001b[0m \u001b[38;5;28;01mdef\u001b[39;00m \u001b[38;5;21mpath_length\u001b[39m(v):\n",
      "\u001b[0;31mNetworkXError\u001b[0m: Graph is not connected."
     ]
    }
   ],
   "source": [
    "# Step 2: Calculate average shortest path length before deletion\n",
    "avg_shortest_path_length_before = nx.average_shortest_path_length(g_station)\n",
    "print(\"Average Shortest Path Length before deletion:\", avg_shortest_path_length_before)\n",
    "\n",
    "# Step 3: Delete the node 'Stratford'\n",
    "g_station.remove_node('Shadwell')\n",
    "\n",
    "# Step 4: Calculate average shortest path length after deletion\n",
    "avg_shortest_path_length_after = nx.average_shortest_path_length(g_station)\n",
    "print(\"Average Shortest Path Length after deletion:\", avg_shortest_path_length_after)"
   ]
  },
  {
   "cell_type": "markdown",
   "id": "c76a7a2f-b8e3-493a-b517-ec98267ae2c9",
   "metadata": {},
   "source": [
    "# 分界线2"
   ]
  },
  {
   "cell_type": "code",
   "execution_count": 62,
   "id": "df9dbb11-6d98-4f48-994e-2ef3da84dbce",
   "metadata": {},
   "outputs": [
    {
     "name": "stdout",
     "output_type": "stream",
     "text": [
      "density before deletion: 0.3994660016876362\n",
      "density after deletion: 0.39683303165702566\n"
     ]
    }
   ],
   "source": [
    "import networkx as nx\n",
    "import matplotlib.pyplot as plt\n",
    "\n",
    "# Step 1: Create the graph\n",
    "g_station = nx.from_pandas_edgelist(file_network, 'station_origin', 'station_destination', 'flows')\n",
    "\n",
    "# Step 2: Calculate average shortest path length before deletion\n",
    "density_before = nx.density(g_station)\n",
    "print(\"density before deletion:\", density_before)\n",
    "\n",
    "# Step 3: Delete the node 'Stratford'\n",
    "g_station.remove_node('Stratford')\n",
    "\n",
    "# Step 4: Calculate average shortest path length after deletion\n",
    "density_after = nx.density(g_station)\n",
    "print(\"density after deletion:\", density_after)\n"
   ]
  },
  {
   "cell_type": "code",
   "execution_count": null,
   "id": "d090a9d8-d114-4b23-b09b-2c8fcfbfdbf0",
   "metadata": {},
   "outputs": [],
   "source": []
  },
  {
   "cell_type": "code",
   "execution_count": 63,
   "id": "ea5514cd-7487-4d95-9801-0518d38aca19",
   "metadata": {},
   "outputs": [
    {
     "name": "stdout",
     "output_type": "stream",
     "text": [
      "density before deletion: 0.39683303165702566\n",
      "density after deletion: 0.39494440627941885\n"
     ]
    }
   ],
   "source": [
    "# Step 2: Calculate average shortest path length before deletion\n",
    "density_before = nx.density(g_station)\n",
    "print(\"density before deletion:\", density_before)\n",
    "\n",
    "# Step 3: Delete the node 'Stratford'\n",
    "g_station.remove_node('Canada Water')\n",
    "\n",
    "# Step 4: Calculate average shortest path length after deletion\n",
    "density_after = nx.density(g_station)\n",
    "print(\"density after deletion:\", density_after)\n"
   ]
  },
  {
   "cell_type": "code",
   "execution_count": 64,
   "id": "56537ec5-a01e-4d72-a346-e5d5a2610fcb",
   "metadata": {},
   "outputs": [
    {
     "name": "stdout",
     "output_type": "stream",
     "text": [
      "density before deletion: 0.39494440627941885\n",
      "density after deletion: 0.39306993990538297\n"
     ]
    }
   ],
   "source": [
    "# Step 2: Calculate average shortest path length before deletion\n",
    "density_before = nx.density(g_station)\n",
    "print(\"density before deletion:\", density_before)\n",
    "\n",
    "# Step 3: Delete the node 'Stratford'\n",
    "g_station.remove_node('Liverpool Street')\n",
    "\n",
    "# Step 4: Calculate average shortest path length after deletion\n",
    "density_after = nx.density(g_station)\n",
    "print(\"density after deletion:\", density_after)\n"
   ]
  },
  {
   "cell_type": "code",
   "execution_count": 65,
   "id": "64b23b87-22b4-47d7-8824-969766765829",
   "metadata": {},
   "outputs": [
    {
     "name": "stdout",
     "output_type": "stream",
     "text": [
      "density before deletion: 0.39306993990538297\n",
      "density after deletion: 0.3911713679881771\n"
     ]
    }
   ],
   "source": [
    "# Step 2: Calculate average shortest path length before deletion\n",
    "density_before = nx.density(g_station)\n",
    "print(\"density before deletion:\", density_before)\n",
    "\n",
    "# Step 3: Delete the node 'Stratford'\n",
    "g_station.remove_node('Canary Wharf')\n",
    "\n",
    "# Step 4: Calculate average shortest path length after deletion\n",
    "density_after = nx.density(g_station)\n",
    "print(\"density after deletion:\", density_after)\n"
   ]
  },
  {
   "cell_type": "code",
   "execution_count": 66,
   "id": "1dc0b477-f750-4000-941b-510570b33e3f",
   "metadata": {},
   "outputs": [
    {
     "name": "stdout",
     "output_type": "stream",
     "text": [
      "density before deletion: 0.3911713679881771\n",
      "density after deletion: 0.38919672956949664\n"
     ]
    }
   ],
   "source": [
    "# Step 2: Calculate average shortest path length before deletion\n",
    "density_before = nx.density(g_station)\n",
    "print(\"density before deletion:\", density_before)\n",
    "\n",
    "# Step 3: Delete the node 'Stratford'\n",
    "g_station.remove_node('Whitechapel')\n",
    "\n",
    "# Step 4: Calculate average shortest path length after deletion\n",
    "density_after = nx.density(g_station)\n",
    "print(\"density after deletion:\", density_after)\n"
   ]
  },
  {
   "cell_type": "code",
   "execution_count": 67,
   "id": "a3d83760-e323-4505-8b3e-ec9d0737686d",
   "metadata": {},
   "outputs": [
    {
     "name": "stdout",
     "output_type": "stream",
     "text": [
      "density before deletion: 0.38919672956949664\n",
      "density after deletion: 0.3877940489172768\n"
     ]
    }
   ],
   "source": [
    "# Step 2: Calculate average shortest path length before deletion\n",
    "density_before = nx.density(g_station)\n",
    "print(\"density before deletion:\", density_before)\n",
    "\n",
    "# Step 3: Delete the node 'Stratford'\n",
    "g_station.remove_node('London Bridge')\n",
    "\n",
    "# Step 4: Calculate average shortest path length after deletion\n",
    "density_after = nx.density(g_station)\n",
    "print(\"density after deletion:\", density_after)\n"
   ]
  },
  {
   "cell_type": "code",
   "execution_count": 68,
   "id": "4ec879e7-9811-4429-a057-b74c87035646",
   "metadata": {},
   "outputs": [
    {
     "name": "stdout",
     "output_type": "stream",
     "text": [
      "density before deletion: 0.3877940489172768\n",
      "density after deletion: 0.38638498877811994\n"
     ]
    }
   ],
   "source": [
    "# Step 2: Calculate average shortest path length before deletion\n",
    "density_before = nx.density(g_station)\n",
    "print(\"density before deletion:\", density_before)\n",
    "\n",
    "# Step 3: Delete the node 'Stratford'\n",
    "g_station.remove_node('Victoria')\n",
    "\n",
    "# Step 4: Calculate average shortest path length after deletion\n",
    "density_after = nx.density(g_station)\n",
    "print(\"density after deletion:\", density_after)\n"
   ]
  },
  {
   "cell_type": "code",
   "execution_count": 69,
   "id": "44143d39-a54d-44a7-baa0-003bb82389d1",
   "metadata": {},
   "outputs": [
    {
     "name": "stdout",
     "output_type": "stream",
     "text": [
      "density before deletion: 0.38638498877811994\n",
      "density after deletion: 0.3849826218112663\n"
     ]
    }
   ],
   "source": [
    "# Step 2: Calculate average shortest path length before deletion\n",
    "density_before = nx.density(g_station)\n",
    "print(\"density before deletion:\", density_before)\n",
    "\n",
    "# Step 3: Delete the node 'Stratford'\n",
    "g_station.remove_node('Paddington')\n",
    "\n",
    "# Step 4: Calculate average shortest path length after deletion\n",
    "density_after = nx.density(g_station)\n",
    "print(\"density after deletion:\", density_after)\n"
   ]
  },
  {
   "cell_type": "code",
   "execution_count": 70,
   "id": "efc4d2f0-aae2-4597-a43d-7023e413e403",
   "metadata": {},
   "outputs": [
    {
     "name": "stdout",
     "output_type": "stream",
     "text": [
      "density before deletion: 0.3849826218112663\n",
      "density after deletion: 0.38304660206973834\n"
     ]
    }
   ],
   "source": [
    "# Step 2: Calculate average shortest path length before deletion\n",
    "density_before = nx.density(g_station)\n",
    "print(\"density before deletion:\", density_before)\n",
    "\n",
    "# Step 3: Delete the node 'Stratford'\n",
    "g_station.remove_node('Bank and Monument')\n",
    "\n",
    "# Step 4: Calculate average shortest path length after deletion\n",
    "density_after = nx.density(g_station)\n",
    "print(\"density after deletion:\", density_after)\n"
   ]
  },
  {
   "cell_type": "code",
   "execution_count": 71,
   "id": "63fbf897-f056-4d91-9d97-c5b3dcce0a89",
   "metadata": {},
   "outputs": [
    {
     "name": "stdout",
     "output_type": "stream",
     "text": [
      "density before deletion: 0.38304660206973834\n",
      "density after deletion: 0.38088675695014973\n"
     ]
    }
   ],
   "source": [
    "# Step 2: Calculate average shortest path length before deletion\n",
    "density_before = nx.density(g_station)\n",
    "print(\"density before deletion:\", density_before)\n",
    "\n",
    "# Step 3: Delete the node 'Stratford'\n",
    "g_station.remove_node('Highbury & Islington')\n",
    "\n",
    "# Step 4: Calculate average shortest path length after deletion\n",
    "density_after = nx.density(g_station)\n",
    "print(\"density after deletion:\", density_after)\n"
   ]
  },
  {
   "cell_type": "code",
   "execution_count": null,
   "id": "ac797366-8f15-4846-a762-e81821f0f8da",
   "metadata": {},
   "outputs": [],
   "source": []
  }
 ],
 "metadata": {
  "kernelspec": {
   "display_name": "Python 3 (ipykernel)",
   "language": "python",
   "name": "python3"
  },
  "language_info": {
   "codemirror_mode": {
    "name": "ipython",
    "version": 3
   },
   "file_extension": ".py",
   "mimetype": "text/x-python",
   "name": "python",
   "nbconvert_exporter": "python",
   "pygments_lexer": "ipython3",
   "version": "3.11.5"
  }
 },
 "nbformat": 4,
 "nbformat_minor": 5
}
